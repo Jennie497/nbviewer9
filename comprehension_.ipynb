{
 "cells": [
  {
   "cell_type": "markdown",
   "id": "062902b5",
   "metadata": {},
   "source": [
    "# iterable 컴프리헨션"
   ]
  },
  {
   "cell_type": "code",
   "execution_count": 1,
   "id": "bdb03f60",
   "metadata": {},
   "outputs": [
    {
     "name": "stdout",
     "output_type": "stream",
     "text": [
      "nums_comp = [11, 12, 13, 14, 15]\n"
     ]
    }
   ],
   "source": [
    "nums_comp = [num+10 for num in range(1, 6)]\n",
    "print(f'{nums_comp = }')"
   ]
  },
  {
   "cell_type": "code",
   "execution_count": 2,
   "id": "d6b647f3",
   "metadata": {},
   "outputs": [
    {
     "name": "stdout",
     "output_type": "stream",
     "text": [
      "nums_for = [11, 12, 13, 14, 15]\n"
     ]
    }
   ],
   "source": [
    "nums_for =[]\n",
    "\n",
    "for num in range(1, 6):\n",
    " \n",
    "    nums_for.append(num+10)\n",
    "\n",
    "print(f'{nums_for = }')\n"
   ]
  },
  {
   "cell_type": "code",
   "execution_count": 3,
   "id": "6c8c639f",
   "metadata": {},
   "outputs": [
    {
     "data": {
      "text/plain": [
       "15"
      ]
     },
     "execution_count": 3,
     "metadata": {},
     "output_type": "execute_result"
    }
   ],
   "source": [
    "def add_ten(num):\n",
    "    return num + 10\n",
    "\n",
    "add_ten(5)"
   ]
  },
  {
   "cell_type": "code",
   "execution_count": 4,
   "id": "23cca5df",
   "metadata": {},
   "outputs": [
    {
     "data": {
      "text/plain": [
       "<map at 0x1c3442e9090>"
      ]
     },
     "execution_count": 4,
     "metadata": {},
     "output_type": "execute_result"
    }
   ],
   "source": [
    "map(add_ten, [1, 2, 3, 4, 5])"
   ]
  },
  {
   "cell_type": "code",
   "execution_count": 5,
   "id": "6f6a6b5f",
   "metadata": {},
   "outputs": [
    {
     "data": {
      "text/plain": [
       "[11, 12, 13, 14, 15]"
      ]
     },
     "execution_count": 5,
     "metadata": {},
     "output_type": "execute_result"
    }
   ],
   "source": [
    "list(map(add_ten, [1, 2, 3, 4, 5]))"
   ]
  },
  {
   "cell_type": "code",
   "execution_count": 6,
   "id": "2bd3f7ff",
   "metadata": {},
   "outputs": [
    {
     "name": "stdout",
     "output_type": "stream",
     "text": [
      "nums_map = [11, 12, 13, 14, 15]\n"
     ]
    }
   ],
   "source": [
    "nums_map = list(map(add_ten, range(1, 6)))\n",
    "print(f'{nums_map = }')"
   ]
  },
  {
   "cell_type": "code",
   "execution_count": 7,
   "id": "532a9dce",
   "metadata": {},
   "outputs": [
    {
     "name": "stdout",
     "output_type": "stream",
     "text": [
      "nums_math = [1, 3, 5, 7, 9]\n"
     ]
    }
   ],
   "source": [
    "nums_math = [num*2-1 for num in range(1, 6)]\n",
    "print(f'{nums_math = }')"
   ]
  },
  {
   "cell_type": "code",
   "execution_count": 8,
   "id": "f3d29d7f",
   "metadata": {},
   "outputs": [
    {
     "name": "stdout",
     "output_type": "stream",
     "text": [
      "nums_func = ['Int_1', 'Int_2', 'Int_3', 'Int_4', 'Int_5']\n"
     ]
    }
   ],
   "source": [
    "def addString(x):\n",
    "    return 'Int_' + str(x)\n",
    "\n",
    "nums_func = [addString(num) for num in range(1, 6)]\n",
    "print(f'{nums_func = }')\n"
   ]
  },
  {
   "cell_type": "code",
   "execution_count": 9,
   "id": "c03ce4fb",
   "metadata": {},
   "outputs": [
    {
     "name": "stdout",
     "output_type": "stream",
     "text": [
      "nums_odds = [1, 3, 5]\n"
     ]
    }
   ],
   "source": [
    "nums_odds = [num for num in range(1, 6) if num % 2 == 1]\n",
    "print(f'{nums_odds = }')"
   ]
  },
  {
   "cell_type": "code",
   "execution_count": 10,
   "id": "8c4d0423",
   "metadata": {},
   "outputs": [
    {
     "name": "stdout",
     "output_type": "stream",
     "text": [
      "nums_odds_zero = [1, 0, 3, 0, 5]\n"
     ]
    }
   ],
   "source": [
    "nums_odds_zero = [num if num % 2 == 1 else 0 for num in range(1, 6)]\n",
    "print(f'{nums_odds_zero = }')"
   ]
  },
  {
   "cell_type": "code",
   "execution_count": 11,
   "id": "5f5c6c57",
   "metadata": {},
   "outputs": [
    {
     "name": "stdout",
     "output_type": "stream",
     "text": [
      "nums_odds_less4 = [1, 3]\n"
     ]
    }
   ],
   "source": [
    "nums_odds_less4 = [num for num in range(1, 6) if num % 2 == 1 if num < 4]\n",
    "print(f'{nums_odds_less4 = }')"
   ]
  },
  {
   "cell_type": "code",
   "execution_count": 12,
   "id": "320980ec",
   "metadata": {},
   "outputs": [
    {
     "name": "stdout",
     "output_type": "stream",
     "text": [
      "nums_pairs = [(1, 'a'), (1, 'b'), (1, 'c'), (2, 'a'), (2, 'b'), (2, 'c')]\n"
     ]
    }
   ],
   "source": [
    "nums_pairs = [(x,y) for x in range(1, 3) for y in ['a', 'b', 'c']]\n",
    "print(f'{nums_pairs = }')"
   ]
  },
  {
   "cell_type": "code",
   "execution_count": 13,
   "id": "dc6c79b4",
   "metadata": {},
   "outputs": [
    {
     "name": "stdout",
     "output_type": "stream",
     "text": [
      "num_pairs_sum5 = [(1, 4), (2, 3), (3, 2), (4, 1)]\n"
     ]
    }
   ],
   "source": [
    "num_pairs_sum5 = [(x,y) for x in range(1, 6) for y in range(1, 6) if x+y==5]\n",
    "print(f'{num_pairs_sum5 = }')\n"
   ]
  },
  {
   "cell_type": "code",
   "execution_count": 14,
   "id": "e1f0c83d",
   "metadata": {},
   "outputs": [
    {
     "name": "stdout",
     "output_type": "stream",
     "text": [
      "students_for = {1: '최딕선', 2: '최딕선', 3: '최딕선', 4: '최딕선'}\n"
     ]
    }
   ],
   "source": [
    "ids = [1, 2, 3, 4]\n",
    "student_names = ['김홍익', '이컴프리', '박헨션', '최딕선']\n",
    "\n",
    "students_for = {id:name for id in ids for name in student_names}\n",
    "\n",
    "print(f'{students_for = }')"
   ]
  },
  {
   "cell_type": "code",
   "execution_count": 15,
   "id": "a8c22e7e",
   "metadata": {},
   "outputs": [
    {
     "name": "stdout",
     "output_type": "stream",
     "text": [
      "students_enumerate = {0: '김홍익', 1: '이컴프리', 2: '박헨션', 3: '최딕선'}\n"
     ]
    }
   ],
   "source": [
    "student_names = ['김홍익', '이컴프리', '박헨션', '최딕선']\n",
    "\n",
    "students_enumerate = {id:name for id, name in enumerate(student_names)}\n",
    "print(f'{students_enumerate = }')"
   ]
  },
  {
   "cell_type": "code",
   "execution_count": 16,
   "id": "ca660938",
   "metadata": {},
   "outputs": [
    {
     "name": "stdout",
     "output_type": "stream",
     "text": [
      "students_for = {1: '최딕선', 2: '최딕선', 3: '최딕선', 4: '최딕선'}\n"
     ]
    }
   ],
   "source": [
    "ids = [1, 2, 3, 4]\n",
    "student_names = ['김홍익', '이컴프리', '박헨션', '최딕선']\n",
    "\n",
    "students_zip = {id:name for id, name in zip(ids, student_names)}\n",
    "\n",
    "print(f'{students_for = }')"
   ]
  },
  {
   "cell_type": "code",
   "execution_count": 17,
   "id": "7cd85f2e",
   "metadata": {},
   "outputs": [
    {
     "name": "stdout",
     "output_type": "stream",
     "text": [
      "sum_list = [2, 3, 4, 5, 6, 3, 4, 5, 6, 7, 4, 5, 6, 7, 8, 5, 6, 7, 8, 9, 6, 7, 8, 9, 10]\n",
      "\n",
      "sum_set = {2, 3, 4, 5, 6, 7, 8, 9, 10}\n"
     ]
    }
   ],
   "source": [
    "sum_list = [x+y for x in range(1, 6) for y in range(1, 6)]\n",
    "\n",
    "print(f'{sum_list = }\\n')\n",
    "\n",
    "sum_set = {x+y for x in range(1, 6) for y in range(1, 6)}\n",
    "\n",
    "print(f'{sum_set = }')\n"
   ]
  },
  {
   "cell_type": "code",
   "execution_count": 18,
   "id": "551ba4e5",
   "metadata": {},
   "outputs": [
    {
     "name": "stdout",
     "output_type": "stream",
     "text": [
      "nums_pairs_list = [(1, 'a'), (1, 'b'), (1, 'c'), (2, 'a'), (2, 'b'), (2, 'c')]\n",
      "\n",
      "nums_pairs_tuple = <generator object <genexpr> at 0x000001C344415000>\n",
      "tuple(nums_pairs_tuple) = ((1, 'a'), (1, 'b'), (1, 'c'), (2, 'a'), (2, 'b'), (2, 'c'))\n",
      "\n",
      "nums_pairs_tuple2 = ((1, 'a'), (1, 'b'), (1, 'c'), (2, 'a'), (2, 'b'), (2, 'c'))\n"
     ]
    }
   ],
   "source": [
    "nums_pairs_list = [(x,y) for x in range(1, 3) for y in ['a', 'b', 'c']]\n",
    "\n",
    "print(f'{nums_pairs_list = }\\n')\n",
    "\n",
    "nums_pairs_tuple = ((x,y) for x in range(1, 3) for y in ['a', 'b', 'c'])\n",
    "\n",
    "print(f'{nums_pairs_tuple = }')\n",
    "\n",
    "print(f'{tuple(nums_pairs_tuple) = }\\n')\n",
    "\n",
    "nums_pairs_tuple2 = tuple((x,y) for x in range(1, 3) for y in ['a', 'b', 'c'])\n",
    "print(f'{nums_pairs_tuple2 = }')"
   ]
  },
  {
   "cell_type": "markdown",
   "id": "688cba88",
   "metadata": {},
   "source": [
    "# 추가학습내용"
   ]
  },
  {
   "cell_type": "markdown",
   "id": "cd9b9922",
   "metadata": {},
   "source": [
    "def add_ten(num):\n",
    "    return num + 10\n",
    "\n",
    "add_ten('a')는 에러, 문자열 'a'와 정수 10을 더할 수 없기 때문"
   ]
  },
  {
   "cell_type": "code",
   "execution_count": 19,
   "id": "91af9954",
   "metadata": {},
   "outputs": [
    {
     "data": {
      "text/plain": [
       "25"
      ]
     },
     "execution_count": 19,
     "metadata": {},
     "output_type": "execute_result"
    }
   ],
   "source": [
    "def add_ten(num):\n",
    "    return num + 10\n",
    "\n",
    "add_ten(15)"
   ]
  },
  {
   "cell_type": "markdown",
   "id": "7f0b77c2",
   "metadata": {},
   "source": [
    "15에 10을 더해 25를 반환"
   ]
  },
  {
   "cell_type": "markdown",
   "id": "172ac5b7",
   "metadata": {},
   "source": [
    "def add_ten(num):\n",
    "    return num + 10\n",
    "\n",
    "add_ten([1,2,3])에러, 리스트 [1, 2, 3]에 정수 10을 더하려 해 TypeError가 발생"
   ]
  },
  {
   "cell_type": "code",
   "execution_count": 20,
   "id": "dc139ba3",
   "metadata": {},
   "outputs": [
    {
     "data": {
      "text/plain": [
       "25.0"
      ]
     },
     "execution_count": 20,
     "metadata": {},
     "output_type": "execute_result"
    }
   ],
   "source": [
    "def add_ten(num):\n",
    "    return num + 10\n",
    "\n",
    "add_ten(15.0)"
   ]
  },
  {
   "cell_type": "markdown",
   "id": "27df3b26",
   "metadata": {},
   "source": [
    "실수 15.0에 10을 더해 25.0을 반환"
   ]
  },
  {
   "cell_type": "code",
   "execution_count": 21,
   "id": "700e8720",
   "metadata": {},
   "outputs": [
    {
     "data": {
      "text/plain": [
       "<zip at 0x1c344418e00>"
      ]
     },
     "execution_count": 21,
     "metadata": {},
     "output_type": "execute_result"
    }
   ],
   "source": [
    "zip([1,2,3], [4,5,6])"
   ]
  },
  {
   "cell_type": "code",
   "execution_count": 22,
   "id": "2876713c",
   "metadata": {},
   "outputs": [
    {
     "data": {
      "text/plain": [
       "[(1, 4), (2, 5), (3, 6)]"
      ]
     },
     "execution_count": 22,
     "metadata": {},
     "output_type": "execute_result"
    }
   ],
   "source": [
    "list(zip([1,2,3], [4,5,6]))"
   ]
  },
  {
   "cell_type": "markdown",
   "id": "368497f2",
   "metadata": {},
   "source": [
    "리스트를 가져야 값을 반환함."
   ]
  },
  {
   "cell_type": "code",
   "execution_count": 23,
   "id": "5a06d197",
   "metadata": {},
   "outputs": [
    {
     "name": "stdout",
     "output_type": "stream",
     "text": [
      "nums_math = [1, 0, 1, 0, 1]\n"
     ]
    }
   ],
   "source": [
    "nums_math = [num%2 for num in range(1, 6)]\n",
    "print(f'{nums_math = }')"
   ]
  },
  {
   "cell_type": "markdown",
   "id": "7ad42a73",
   "metadata": {},
   "source": [
    "1,2,3,4,5를 2로 나눈 나머지로 출력"
   ]
  },
  {
   "cell_type": "code",
   "execution_count": 24,
   "id": "5f49ba0e",
   "metadata": {},
   "outputs": [
    {
     "data": {
      "text/plain": [
       "['Int_1', 'Int_2', 'Int_3', 'Int_4', 'Int_5']"
      ]
     },
     "execution_count": 24,
     "metadata": {},
     "output_type": "execute_result"
    }
   ],
   "source": [
    "list(map(addString, range(1,6)))"
   ]
  },
  {
   "cell_type": "markdown",
   "id": "5e85b7e0",
   "metadata": {},
   "source": [
    "1부터 5까지의 숫자를 addString = lambda x: '숫자: ' + str(x)에 각각 적용 "
   ]
  },
  {
   "cell_type": "code",
   "execution_count": 25,
   "id": "4d601938",
   "metadata": {},
   "outputs": [
    {
     "data": {
      "text/plain": [
       "['Int_1', 'Int_2', 'Int_3', 'Int_4', 'Int_5']"
      ]
     },
     "execution_count": 25,
     "metadata": {},
     "output_type": "execute_result"
    }
   ],
   "source": [
    "['Int_'+str(num) for num in range(1,6)]"
   ]
  },
  {
   "cell_type": "markdown",
   "id": "0a5dda87",
   "metadata": {},
   "source": [
    "1,2,3,4,5에 'Int_'를 붙여 생성."
   ]
  },
  {
   "cell_type": "code",
   "execution_count": 26,
   "id": "75fa19dc",
   "metadata": {},
   "outputs": [
    {
     "name": "stdout",
     "output_type": "stream",
     "text": [
      "nums_odds = [2, 4]\n"
     ]
    }
   ],
   "source": [
    "nums_odds = [num for num in range(1, 6) if num % 2 == 0]\n",
    "print(f'{nums_odds = }')"
   ]
  },
  {
   "cell_type": "markdown",
   "id": "ed85c800",
   "metadata": {},
   "source": [
    "1부터 5까지 숫자 중 짝수만 골라 출력."
   ]
  },
  {
   "cell_type": "code",
   "execution_count": 27,
   "id": "72f17e0e",
   "metadata": {},
   "outputs": [
    {
     "name": "stdout",
     "output_type": "stream",
     "text": [
      "nums_odds = [3, 6, 9, 12, 15, 18, 21, 24, 27, 30, 33, 36, 39, 42, 45, 48, 51, 54, 57]\n"
     ]
    }
   ],
   "source": [
    "nums_odds = [num for num in range(1, 60) if num % 3 == 0]\n",
    "print(f'{nums_odds = }')"
   ]
  },
  {
   "cell_type": "markdown",
   "id": "a48180bf",
   "metadata": {},
   "source": [
    "1부터 59까지 숫자 중 3의배수만 골라 출력."
   ]
  },
  {
   "cell_type": "code",
   "execution_count": 28,
   "id": "76ff0d27",
   "metadata": {},
   "outputs": [
    {
     "data": {
      "text/plain": [
       "True"
      ]
     },
     "execution_count": 28,
     "metadata": {},
     "output_type": "execute_result"
    }
   ],
   "source": [
    "'a' in 'abcde'"
   ]
  },
  {
   "cell_type": "markdown",
   "id": "0650123c",
   "metadata": {},
   "source": [
    "'a'가 'abcde'에 포함되어 있으므로 True를 반환"
   ]
  },
  {
   "cell_type": "code",
   "execution_count": 29,
   "id": "ba6cbe54",
   "metadata": {},
   "outputs": [
    {
     "data": {
      "text/plain": [
       "False"
      ]
     },
     "execution_count": 29,
     "metadata": {},
     "output_type": "execute_result"
    }
   ],
   "source": [
    "'A' in 'abcde'"
   ]
  },
  {
   "cell_type": "markdown",
   "id": "1fe54b1a",
   "metadata": {},
   "source": [
    "'A'가 'abcde'에 포함되어 있지않으므로 False를 반환"
   ]
  },
  {
   "cell_type": "code",
   "execution_count": 30,
   "id": "c4f2cf10",
   "metadata": {},
   "outputs": [
    {
     "data": {
      "text/plain": [
       "['A', 'B', 'C', 'D', 'E']"
      ]
     },
     "execution_count": 30,
     "metadata": {},
     "output_type": "execute_result"
    }
   ],
   "source": [
    "[ch for ch in 'AaBbCcDdEe' if ch in 'ABCDE']"
   ]
  },
  {
   "cell_type": "markdown",
   "id": "70c83d06",
   "metadata": {},
   "source": [
    "'AaBbCcDdEe'에서 'A', 'B', 'C', 'D', 'E'에 해당하는 문자만 골라 출력."
   ]
  },
  {
   "cell_type": "code",
   "execution_count": 31,
   "id": "dc6483fc",
   "metadata": {},
   "outputs": [
    {
     "data": {
      "text/plain": [
       "['A', 0, 'B', 0, 'C', 0, 'D', 0, 'E', 0]"
      ]
     },
     "execution_count": 31,
     "metadata": {},
     "output_type": "execute_result"
    }
   ],
   "source": [
    "[ch if ch in 'ABCDE' else 0 for ch in 'AaBbCcDdEe']"
   ]
  },
  {
   "cell_type": "markdown",
   "id": "aa725a24",
   "metadata": {},
   "source": [
    "'AaBbCcDdEe'에서 'A', 'B', 'C', 'D', 'E'에 해당하면 그대로, 아니면 0으로 출력."
   ]
  },
  {
   "cell_type": "code",
   "execution_count": 32,
   "id": "1f41266c",
   "metadata": {},
   "outputs": [
    {
     "data": {
      "text/plain": [
       "['__add__',\n",
       " '__class__',\n",
       " '__contains__',\n",
       " '__delattr__',\n",
       " '__dir__',\n",
       " '__doc__',\n",
       " '__eq__',\n",
       " '__format__',\n",
       " '__ge__',\n",
       " '__getattribute__',\n",
       " '__getitem__',\n",
       " '__getnewargs__',\n",
       " '__getstate__',\n",
       " '__gt__',\n",
       " '__hash__',\n",
       " '__init__',\n",
       " '__init_subclass__',\n",
       " '__iter__',\n",
       " '__le__',\n",
       " '__len__',\n",
       " '__lt__',\n",
       " '__mod__',\n",
       " '__mul__',\n",
       " '__ne__',\n",
       " '__new__',\n",
       " '__reduce__',\n",
       " '__reduce_ex__',\n",
       " '__repr__',\n",
       " '__rmod__',\n",
       " '__rmul__',\n",
       " '__setattr__',\n",
       " '__sizeof__',\n",
       " '__str__',\n",
       " '__subclasshook__',\n",
       " 'capitalize',\n",
       " 'casefold',\n",
       " 'center',\n",
       " 'count',\n",
       " 'encode',\n",
       " 'endswith',\n",
       " 'expandtabs',\n",
       " 'find',\n",
       " 'format',\n",
       " 'format_map',\n",
       " 'index',\n",
       " 'isalnum',\n",
       " 'isalpha',\n",
       " 'isascii',\n",
       " 'isdecimal',\n",
       " 'isdigit',\n",
       " 'isidentifier',\n",
       " 'islower',\n",
       " 'isnumeric',\n",
       " 'isprintable',\n",
       " 'isspace',\n",
       " 'istitle',\n",
       " 'isupper',\n",
       " 'join',\n",
       " 'ljust',\n",
       " 'lower',\n",
       " 'lstrip',\n",
       " 'maketrans',\n",
       " 'partition',\n",
       " 'removeprefix',\n",
       " 'removesuffix',\n",
       " 'replace',\n",
       " 'rfind',\n",
       " 'rindex',\n",
       " 'rjust',\n",
       " 'rpartition',\n",
       " 'rsplit',\n",
       " 'rstrip',\n",
       " 'split',\n",
       " 'splitlines',\n",
       " 'startswith',\n",
       " 'strip',\n",
       " 'swapcase',\n",
       " 'title',\n",
       " 'translate',\n",
       " 'upper',\n",
       " 'zfill']"
      ]
     },
     "execution_count": 32,
     "metadata": {},
     "output_type": "execute_result"
    }
   ],
   "source": [
    "dir('AaBbCcDdEe')"
   ]
  },
  {
   "cell_type": "markdown",
   "id": "c9654cb4",
   "metadata": {},
   "source": [
    "문자열 객체가 가지고 있는 모든 속성과 메서드의 목록을 리스트로 반환"
   ]
  },
  {
   "cell_type": "code",
   "execution_count": 33,
   "id": "243fdf59",
   "metadata": {},
   "outputs": [
    {
     "data": {
      "text/plain": [
       "5"
      ]
     },
     "execution_count": 33,
     "metadata": {},
     "output_type": "execute_result"
    }
   ],
   "source": [
    "'AaBbCcDdEe'.find('c')"
   ]
  },
  {
   "cell_type": "markdown",
   "id": "f781c7b8",
   "metadata": {},
   "source": [
    "'c'의 위치를 찾아 5을 반환"
   ]
  },
  {
   "cell_type": "code",
   "execution_count": 34,
   "id": "88dbbcd6",
   "metadata": {},
   "outputs": [
    {
     "data": {
      "text/plain": [
       "1"
      ]
     },
     "execution_count": 34,
     "metadata": {},
     "output_type": "execute_result"
    }
   ],
   "source": [
    "'AaBbCcDdEe'.find('a')"
   ]
  },
  {
   "cell_type": "markdown",
   "id": "8f71a397",
   "metadata": {},
   "source": [
    "'a'의 위치를 찾아 1을 반환"
   ]
  },
  {
   "cell_type": "code",
   "execution_count": 35,
   "id": "a69a216b",
   "metadata": {},
   "outputs": [
    {
     "data": {
      "text/plain": [
       "['A', 1, 'B', 3, 'C', 5, 'D', 7, 'E', 9]"
      ]
     },
     "execution_count": 35,
     "metadata": {},
     "output_type": "execute_result"
    }
   ],
   "source": [
    "[ch if ch in 'ABCDE' else 'AaBbCcDdEe'.find(ch) for ch in 'AaBbCcDdEe']"
   ]
  },
  {
   "cell_type": "markdown",
   "id": "5e6f917a",
   "metadata": {},
   "source": [
    "'A', 'B', 'C', 'D', 'E' 중 하나면 그 문자 그대로 아니면 해당 문자가 'AaBbCcDdEe'에서 위치를 반환"
   ]
  },
  {
   "cell_type": "code",
   "execution_count": 36,
   "id": "ab62e1bd",
   "metadata": {},
   "outputs": [
    {
     "name": "stdout",
     "output_type": "stream",
     "text": [
      "(0, 'A')\n",
      "(1, 'a')\n",
      "(2, 'B')\n",
      "(3, 'b')\n",
      "(4, 'C')\n",
      "(5, 'c')\n",
      "(6, 'D')\n",
      "(7, 'd')\n",
      "(8, 'E')\n",
      "(9, 'e')\n"
     ]
    }
   ],
   "source": [
    "for k in enumerate('AaBbCcDdEe'):\n",
    "    print(k)"
   ]
  },
  {
   "cell_type": "markdown",
   "id": "aa7ff942",
   "metadata": {},
   "source": [
    "문자열의 각 문자에 인덱스를 붙여 (인덱스, 문자) 튜플 출력"
   ]
  },
  {
   "cell_type": "code",
   "execution_count": 37,
   "id": "39febb2b",
   "metadata": {},
   "outputs": [
    {
     "name": "stdout",
     "output_type": "stream",
     "text": [
      "0 A\n",
      "1 a\n",
      "2 B\n",
      "3 b\n",
      "4 C\n",
      "5 c\n",
      "6 D\n",
      "7 d\n",
      "8 E\n",
      "9 e\n"
     ]
    }
   ],
   "source": [
    "for i, ch in enumerate('AaBbCcDdEe'):\n",
    "    print(i, ch)"
   ]
  },
  {
   "cell_type": "markdown",
   "id": "42433c8e",
   "metadata": {},
   "source": [
    "문자열의 각 문자에 인덱스를 붙여 (인덱스, 문자)출력"
   ]
  },
  {
   "cell_type": "code",
   "execution_count": 38,
   "id": "99dd151c",
   "metadata": {},
   "outputs": [
    {
     "name": "stdout",
     "output_type": "stream",
     "text": [
      "num_pairs_sum5 = [(4, 1), (3, 2), (2, 3), (1, 4)]\n"
     ]
    }
   ],
   "source": [
    "num_pairs_sum5 = [(y,x) for x in range(1, 6) for y in range(1, 6) if x+y==5]\n",
    "print(f'{num_pairs_sum5 = }')"
   ]
  },
  {
   "cell_type": "markdown",
   "id": "3bdb5126",
   "metadata": {},
   "source": [
    "x와 y의 자리를 바꾸면 결과도 바꿔서 출력됨."
   ]
  },
  {
   "cell_type": "code",
   "execution_count": 39,
   "id": "54957688",
   "metadata": {},
   "outputs": [
    {
     "name": "stdout",
     "output_type": "stream",
     "text": [
      "students_enumerate = {1: '김홍익', 2: '이컴프리', 3: '박헨션', 4: '최딕선'}\n"
     ]
    }
   ],
   "source": [
    "student_names = ['김홍익', '이컴프리', '박헨션', '최딕선']\n",
    "\n",
    "students_enumerate = {(id+1):name for id, name in enumerate(student_names)}\n",
    "print(f'{students_enumerate = }')"
   ]
  },
  {
   "cell_type": "markdown",
   "id": "7a0cf708",
   "metadata": {},
   "source": [
    "student_names의 이름에 1부터 시작하는 번호를 붙여 딕셔너리로 만들고 출력"
   ]
  },
  {
   "cell_type": "markdown",
   "id": "31c8dab1",
   "metadata": {},
   "source": [
    "**dic과 set 구분**"
   ]
  },
  {
   "cell_type": "code",
   "execution_count": 40,
   "id": "6ffcf18f",
   "metadata": {},
   "outputs": [
    {
     "data": {
      "text/plain": [
       "{'a': 123}"
      ]
     },
     "execution_count": 40,
     "metadata": {},
     "output_type": "execute_result"
    }
   ],
   "source": [
    "{'a' : 123}"
   ]
  },
  {
   "cell_type": "markdown",
   "id": "77ac5485",
   "metadata": {},
   "source": [
    "키 'a'와 값 123으로 구성된 딕셔너리 객체"
   ]
  },
  {
   "cell_type": "markdown",
   "id": "e2027fea",
   "metadata": {},
   "source": [
    "{'a' : 123, 456}는 에러, 딕셔너리 다음에 키가 나와야함. dic으로 인지"
   ]
  },
  {
   "cell_type": "markdown",
   "id": "f90778f4",
   "metadata": {},
   "source": [
    "{456, 'a' : 123}는 에러, set으로 인지 -> 첫 원소를 보고 dict인지 set인지 확인함."
   ]
  },
  {
   "cell_type": "code",
   "execution_count": 41,
   "id": "1d6cd133",
   "metadata": {},
   "outputs": [
    {
     "data": {
      "text/plain": [
       "[(1, 'a'), (1, 'b'), (1, 'c'), (2, 'a'), (2, 'b'), (2, 'c')]"
      ]
     },
     "execution_count": 41,
     "metadata": {},
     "output_type": "execute_result"
    }
   ],
   "source": [
    "[(x,y) for x in range (1, 3) for y in ['a', 'b', 'c']]"
   ]
  },
  {
   "cell_type": "markdown",
   "id": "a8ce6006",
   "metadata": {},
   "source": [
    "1, 2와 'a', 'b', 'c'의 모든 조합을 출력."
   ]
  },
  {
   "cell_type": "code",
   "execution_count": 42,
   "id": "433b5834",
   "metadata": {},
   "outputs": [
    {
     "data": {
      "text/plain": [
       "[(1, 'a'),\n",
       " (1, 'b'),\n",
       " (1, 'c'),\n",
       " (2, 'a'),\n",
       " (2, 'b'),\n",
       " (2, 'c'),\n",
       " (3, 'a'),\n",
       " (3, 'b'),\n",
       " (3, 'c'),\n",
       " (4, 'a'),\n",
       " (4, 'b'),\n",
       " (4, 'c'),\n",
       " (5, 'a'),\n",
       " (5, 'b'),\n",
       " (5, 'c'),\n",
       " (6, 'a'),\n",
       " (6, 'b'),\n",
       " (6, 'c'),\n",
       " (7, 'a'),\n",
       " (7, 'b'),\n",
       " (7, 'c'),\n",
       " (8, 'a'),\n",
       " (8, 'b'),\n",
       " (8, 'c'),\n",
       " (9, 'a'),\n",
       " (9, 'b'),\n",
       " (9, 'c'),\n",
       " (10, 'a'),\n",
       " (10, 'b'),\n",
       " (10, 'c'),\n",
       " (11, 'a'),\n",
       " (11, 'b'),\n",
       " (11, 'c'),\n",
       " (12, 'a'),\n",
       " (12, 'b'),\n",
       " (12, 'c'),\n",
       " (13, 'a'),\n",
       " (13, 'b'),\n",
       " (13, 'c'),\n",
       " (14, 'a'),\n",
       " (14, 'b'),\n",
       " (14, 'c'),\n",
       " (15, 'a'),\n",
       " (15, 'b'),\n",
       " (15, 'c'),\n",
       " (16, 'a'),\n",
       " (16, 'b'),\n",
       " (16, 'c'),\n",
       " (17, 'a'),\n",
       " (17, 'b'),\n",
       " (17, 'c'),\n",
       " (18, 'a'),\n",
       " (18, 'b'),\n",
       " (18, 'c'),\n",
       " (19, 'a'),\n",
       " (19, 'b'),\n",
       " (19, 'c'),\n",
       " (20, 'a'),\n",
       " (20, 'b'),\n",
       " (20, 'c'),\n",
       " (21, 'a'),\n",
       " (21, 'b'),\n",
       " (21, 'c'),\n",
       " (22, 'a'),\n",
       " (22, 'b'),\n",
       " (22, 'c'),\n",
       " (23, 'a'),\n",
       " (23, 'b'),\n",
       " (23, 'c'),\n",
       " (24, 'a'),\n",
       " (24, 'b'),\n",
       " (24, 'c'),\n",
       " (25, 'a'),\n",
       " (25, 'b'),\n",
       " (25, 'c'),\n",
       " (26, 'a'),\n",
       " (26, 'b'),\n",
       " (26, 'c'),\n",
       " (27, 'a'),\n",
       " (27, 'b'),\n",
       " (27, 'c'),\n",
       " (28, 'a'),\n",
       " (28, 'b'),\n",
       " (28, 'c'),\n",
       " (29, 'a'),\n",
       " (29, 'b'),\n",
       " (29, 'c'),\n",
       " (30, 'a'),\n",
       " (30, 'b'),\n",
       " (30, 'c'),\n",
       " (31, 'a'),\n",
       " (31, 'b'),\n",
       " (31, 'c'),\n",
       " (32, 'a'),\n",
       " (32, 'b'),\n",
       " (32, 'c'),\n",
       " (33, 'a'),\n",
       " (33, 'b'),\n",
       " (33, 'c'),\n",
       " (34, 'a'),\n",
       " (34, 'b'),\n",
       " (34, 'c'),\n",
       " (35, 'a'),\n",
       " (35, 'b'),\n",
       " (35, 'c'),\n",
       " (36, 'a'),\n",
       " (36, 'b'),\n",
       " (36, 'c'),\n",
       " (37, 'a'),\n",
       " (37, 'b'),\n",
       " (37, 'c'),\n",
       " (38, 'a'),\n",
       " (38, 'b'),\n",
       " (38, 'c'),\n",
       " (39, 'a'),\n",
       " (39, 'b'),\n",
       " (39, 'c'),\n",
       " (40, 'a'),\n",
       " (40, 'b'),\n",
       " (40, 'c'),\n",
       " (41, 'a'),\n",
       " (41, 'b'),\n",
       " (41, 'c'),\n",
       " (42, 'a'),\n",
       " (42, 'b'),\n",
       " (42, 'c'),\n",
       " (43, 'a'),\n",
       " (43, 'b'),\n",
       " (43, 'c'),\n",
       " (44, 'a'),\n",
       " (44, 'b'),\n",
       " (44, 'c'),\n",
       " (45, 'a'),\n",
       " (45, 'b'),\n",
       " (45, 'c'),\n",
       " (46, 'a'),\n",
       " (46, 'b'),\n",
       " (46, 'c'),\n",
       " (47, 'a'),\n",
       " (47, 'b'),\n",
       " (47, 'c'),\n",
       " (48, 'a'),\n",
       " (48, 'b'),\n",
       " (48, 'c'),\n",
       " (49, 'a'),\n",
       " (49, 'b'),\n",
       " (49, 'c'),\n",
       " (50, 'a'),\n",
       " (50, 'b'),\n",
       " (50, 'c'),\n",
       " (51, 'a'),\n",
       " (51, 'b'),\n",
       " (51, 'c'),\n",
       " (52, 'a'),\n",
       " (52, 'b'),\n",
       " (52, 'c'),\n",
       " (53, 'a'),\n",
       " (53, 'b'),\n",
       " (53, 'c'),\n",
       " (54, 'a'),\n",
       " (54, 'b'),\n",
       " (54, 'c'),\n",
       " (55, 'a'),\n",
       " (55, 'b'),\n",
       " (55, 'c'),\n",
       " (56, 'a'),\n",
       " (56, 'b'),\n",
       " (56, 'c'),\n",
       " (57, 'a'),\n",
       " (57, 'b'),\n",
       " (57, 'c'),\n",
       " (58, 'a'),\n",
       " (58, 'b'),\n",
       " (58, 'c'),\n",
       " (59, 'a'),\n",
       " (59, 'b'),\n",
       " (59, 'c'),\n",
       " (60, 'a'),\n",
       " (60, 'b'),\n",
       " (60, 'c'),\n",
       " (61, 'a'),\n",
       " (61, 'b'),\n",
       " (61, 'c'),\n",
       " (62, 'a'),\n",
       " (62, 'b'),\n",
       " (62, 'c'),\n",
       " (63, 'a'),\n",
       " (63, 'b'),\n",
       " (63, 'c'),\n",
       " (64, 'a'),\n",
       " (64, 'b'),\n",
       " (64, 'c'),\n",
       " (65, 'a'),\n",
       " (65, 'b'),\n",
       " (65, 'c'),\n",
       " (66, 'a'),\n",
       " (66, 'b'),\n",
       " (66, 'c'),\n",
       " (67, 'a'),\n",
       " (67, 'b'),\n",
       " (67, 'c'),\n",
       " (68, 'a'),\n",
       " (68, 'b'),\n",
       " (68, 'c'),\n",
       " (69, 'a'),\n",
       " (69, 'b'),\n",
       " (69, 'c'),\n",
       " (70, 'a'),\n",
       " (70, 'b'),\n",
       " (70, 'c'),\n",
       " (71, 'a'),\n",
       " (71, 'b'),\n",
       " (71, 'c'),\n",
       " (72, 'a'),\n",
       " (72, 'b'),\n",
       " (72, 'c'),\n",
       " (73, 'a'),\n",
       " (73, 'b'),\n",
       " (73, 'c'),\n",
       " (74, 'a'),\n",
       " (74, 'b'),\n",
       " (74, 'c'),\n",
       " (75, 'a'),\n",
       " (75, 'b'),\n",
       " (75, 'c'),\n",
       " (76, 'a'),\n",
       " (76, 'b'),\n",
       " (76, 'c'),\n",
       " (77, 'a'),\n",
       " (77, 'b'),\n",
       " (77, 'c'),\n",
       " (78, 'a'),\n",
       " (78, 'b'),\n",
       " (78, 'c'),\n",
       " (79, 'a'),\n",
       " (79, 'b'),\n",
       " (79, 'c'),\n",
       " (80, 'a'),\n",
       " (80, 'b'),\n",
       " (80, 'c'),\n",
       " (81, 'a'),\n",
       " (81, 'b'),\n",
       " (81, 'c'),\n",
       " (82, 'a'),\n",
       " (82, 'b'),\n",
       " (82, 'c'),\n",
       " (83, 'a'),\n",
       " (83, 'b'),\n",
       " (83, 'c'),\n",
       " (84, 'a'),\n",
       " (84, 'b'),\n",
       " (84, 'c'),\n",
       " (85, 'a'),\n",
       " (85, 'b'),\n",
       " (85, 'c'),\n",
       " (86, 'a'),\n",
       " (86, 'b'),\n",
       " (86, 'c'),\n",
       " (87, 'a'),\n",
       " (87, 'b'),\n",
       " (87, 'c'),\n",
       " (88, 'a'),\n",
       " (88, 'b'),\n",
       " (88, 'c'),\n",
       " (89, 'a'),\n",
       " (89, 'b'),\n",
       " (89, 'c'),\n",
       " (90, 'a'),\n",
       " (90, 'b'),\n",
       " (90, 'c'),\n",
       " (91, 'a'),\n",
       " (91, 'b'),\n",
       " (91, 'c'),\n",
       " (92, 'a'),\n",
       " (92, 'b'),\n",
       " (92, 'c'),\n",
       " (93, 'a'),\n",
       " (93, 'b'),\n",
       " (93, 'c'),\n",
       " (94, 'a'),\n",
       " (94, 'b'),\n",
       " (94, 'c'),\n",
       " (95, 'a'),\n",
       " (95, 'b'),\n",
       " (95, 'c'),\n",
       " (96, 'a'),\n",
       " (96, 'b'),\n",
       " (96, 'c'),\n",
       " (97, 'a'),\n",
       " (97, 'b'),\n",
       " (97, 'c'),\n",
       " (98, 'a'),\n",
       " (98, 'b'),\n",
       " (98, 'c'),\n",
       " (99, 'a'),\n",
       " (99, 'b'),\n",
       " (99, 'c'),\n",
       " (100, 'a'),\n",
       " (100, 'b'),\n",
       " (100, 'c'),\n",
       " (101, 'a'),\n",
       " (101, 'b'),\n",
       " (101, 'c'),\n",
       " (102, 'a'),\n",
       " (102, 'b'),\n",
       " (102, 'c'),\n",
       " (103, 'a'),\n",
       " (103, 'b'),\n",
       " (103, 'c'),\n",
       " (104, 'a'),\n",
       " (104, 'b'),\n",
       " (104, 'c'),\n",
       " (105, 'a'),\n",
       " (105, 'b'),\n",
       " (105, 'c'),\n",
       " (106, 'a'),\n",
       " (106, 'b'),\n",
       " (106, 'c'),\n",
       " (107, 'a'),\n",
       " (107, 'b'),\n",
       " (107, 'c'),\n",
       " (108, 'a'),\n",
       " (108, 'b'),\n",
       " (108, 'c'),\n",
       " (109, 'a'),\n",
       " (109, 'b'),\n",
       " (109, 'c'),\n",
       " (110, 'a'),\n",
       " (110, 'b'),\n",
       " (110, 'c'),\n",
       " (111, 'a'),\n",
       " (111, 'b'),\n",
       " (111, 'c'),\n",
       " (112, 'a'),\n",
       " (112, 'b'),\n",
       " (112, 'c'),\n",
       " (113, 'a'),\n",
       " (113, 'b'),\n",
       " (113, 'c'),\n",
       " (114, 'a'),\n",
       " (114, 'b'),\n",
       " (114, 'c'),\n",
       " (115, 'a'),\n",
       " (115, 'b'),\n",
       " (115, 'c'),\n",
       " (116, 'a'),\n",
       " (116, 'b'),\n",
       " (116, 'c'),\n",
       " (117, 'a'),\n",
       " (117, 'b'),\n",
       " (117, 'c'),\n",
       " (118, 'a'),\n",
       " (118, 'b'),\n",
       " (118, 'c'),\n",
       " (119, 'a'),\n",
       " (119, 'b'),\n",
       " (119, 'c'),\n",
       " (120, 'a'),\n",
       " (120, 'b'),\n",
       " (120, 'c'),\n",
       " (121, 'a'),\n",
       " (121, 'b'),\n",
       " (121, 'c'),\n",
       " (122, 'a'),\n",
       " (122, 'b'),\n",
       " (122, 'c'),\n",
       " (123, 'a'),\n",
       " (123, 'b'),\n",
       " (123, 'c'),\n",
       " (124, 'a'),\n",
       " (124, 'b'),\n",
       " (124, 'c'),\n",
       " (125, 'a'),\n",
       " (125, 'b'),\n",
       " (125, 'c'),\n",
       " (126, 'a'),\n",
       " (126, 'b'),\n",
       " (126, 'c'),\n",
       " (127, 'a'),\n",
       " (127, 'b'),\n",
       " (127, 'c'),\n",
       " (128, 'a'),\n",
       " (128, 'b'),\n",
       " (128, 'c'),\n",
       " (129, 'a'),\n",
       " (129, 'b'),\n",
       " (129, 'c'),\n",
       " (130, 'a'),\n",
       " (130, 'b'),\n",
       " (130, 'c'),\n",
       " (131, 'a'),\n",
       " (131, 'b'),\n",
       " (131, 'c'),\n",
       " (132, 'a'),\n",
       " (132, 'b'),\n",
       " (132, 'c'),\n",
       " (133, 'a'),\n",
       " (133, 'b'),\n",
       " (133, 'c'),\n",
       " (134, 'a'),\n",
       " (134, 'b'),\n",
       " (134, 'c'),\n",
       " (135, 'a'),\n",
       " (135, 'b'),\n",
       " (135, 'c'),\n",
       " (136, 'a'),\n",
       " (136, 'b'),\n",
       " (136, 'c'),\n",
       " (137, 'a'),\n",
       " (137, 'b'),\n",
       " (137, 'c'),\n",
       " (138, 'a'),\n",
       " (138, 'b'),\n",
       " (138, 'c'),\n",
       " (139, 'a'),\n",
       " (139, 'b'),\n",
       " (139, 'c'),\n",
       " (140, 'a'),\n",
       " (140, 'b'),\n",
       " (140, 'c'),\n",
       " (141, 'a'),\n",
       " (141, 'b'),\n",
       " (141, 'c'),\n",
       " (142, 'a'),\n",
       " (142, 'b'),\n",
       " (142, 'c'),\n",
       " (143, 'a'),\n",
       " (143, 'b'),\n",
       " (143, 'c'),\n",
       " (144, 'a'),\n",
       " (144, 'b'),\n",
       " (144, 'c'),\n",
       " (145, 'a'),\n",
       " (145, 'b'),\n",
       " (145, 'c'),\n",
       " (146, 'a'),\n",
       " (146, 'b'),\n",
       " (146, 'c'),\n",
       " (147, 'a'),\n",
       " (147, 'b'),\n",
       " (147, 'c'),\n",
       " (148, 'a'),\n",
       " (148, 'b'),\n",
       " (148, 'c'),\n",
       " (149, 'a'),\n",
       " (149, 'b'),\n",
       " (149, 'c'),\n",
       " (150, 'a'),\n",
       " (150, 'b'),\n",
       " (150, 'c'),\n",
       " (151, 'a'),\n",
       " (151, 'b'),\n",
       " (151, 'c'),\n",
       " (152, 'a'),\n",
       " (152, 'b'),\n",
       " (152, 'c'),\n",
       " (153, 'a'),\n",
       " (153, 'b'),\n",
       " (153, 'c'),\n",
       " (154, 'a'),\n",
       " (154, 'b'),\n",
       " (154, 'c'),\n",
       " (155, 'a'),\n",
       " (155, 'b'),\n",
       " (155, 'c'),\n",
       " (156, 'a'),\n",
       " (156, 'b'),\n",
       " (156, 'c'),\n",
       " (157, 'a'),\n",
       " (157, 'b'),\n",
       " (157, 'c'),\n",
       " (158, 'a'),\n",
       " (158, 'b'),\n",
       " (158, 'c'),\n",
       " (159, 'a'),\n",
       " (159, 'b'),\n",
       " (159, 'c'),\n",
       " (160, 'a'),\n",
       " (160, 'b'),\n",
       " (160, 'c'),\n",
       " (161, 'a'),\n",
       " (161, 'b'),\n",
       " (161, 'c'),\n",
       " (162, 'a'),\n",
       " (162, 'b'),\n",
       " (162, 'c'),\n",
       " (163, 'a'),\n",
       " (163, 'b'),\n",
       " (163, 'c'),\n",
       " (164, 'a'),\n",
       " (164, 'b'),\n",
       " (164, 'c'),\n",
       " (165, 'a'),\n",
       " (165, 'b'),\n",
       " (165, 'c'),\n",
       " (166, 'a'),\n",
       " (166, 'b'),\n",
       " (166, 'c'),\n",
       " (167, 'a'),\n",
       " (167, 'b'),\n",
       " (167, 'c'),\n",
       " (168, 'a'),\n",
       " (168, 'b'),\n",
       " (168, 'c'),\n",
       " (169, 'a'),\n",
       " (169, 'b'),\n",
       " (169, 'c'),\n",
       " (170, 'a'),\n",
       " (170, 'b'),\n",
       " (170, 'c'),\n",
       " (171, 'a'),\n",
       " (171, 'b'),\n",
       " (171, 'c'),\n",
       " (172, 'a'),\n",
       " (172, 'b'),\n",
       " (172, 'c'),\n",
       " (173, 'a'),\n",
       " (173, 'b'),\n",
       " (173, 'c'),\n",
       " (174, 'a'),\n",
       " (174, 'b'),\n",
       " (174, 'c'),\n",
       " (175, 'a'),\n",
       " (175, 'b'),\n",
       " (175, 'c'),\n",
       " (176, 'a'),\n",
       " (176, 'b'),\n",
       " (176, 'c'),\n",
       " (177, 'a'),\n",
       " (177, 'b'),\n",
       " (177, 'c'),\n",
       " (178, 'a'),\n",
       " (178, 'b'),\n",
       " (178, 'c'),\n",
       " (179, 'a'),\n",
       " (179, 'b'),\n",
       " (179, 'c'),\n",
       " (180, 'a'),\n",
       " (180, 'b'),\n",
       " (180, 'c'),\n",
       " (181, 'a'),\n",
       " (181, 'b'),\n",
       " (181, 'c'),\n",
       " (182, 'a'),\n",
       " (182, 'b'),\n",
       " (182, 'c'),\n",
       " (183, 'a'),\n",
       " (183, 'b'),\n",
       " (183, 'c'),\n",
       " (184, 'a'),\n",
       " (184, 'b'),\n",
       " (184, 'c'),\n",
       " (185, 'a'),\n",
       " (185, 'b'),\n",
       " (185, 'c'),\n",
       " (186, 'a'),\n",
       " (186, 'b'),\n",
       " (186, 'c'),\n",
       " (187, 'a'),\n",
       " (187, 'b'),\n",
       " (187, 'c'),\n",
       " (188, 'a'),\n",
       " (188, 'b'),\n",
       " (188, 'c'),\n",
       " (189, 'a'),\n",
       " (189, 'b'),\n",
       " (189, 'c'),\n",
       " (190, 'a'),\n",
       " (190, 'b'),\n",
       " (190, 'c'),\n",
       " (191, 'a'),\n",
       " (191, 'b'),\n",
       " (191, 'c'),\n",
       " (192, 'a'),\n",
       " (192, 'b'),\n",
       " (192, 'c'),\n",
       " (193, 'a'),\n",
       " (193, 'b'),\n",
       " (193, 'c'),\n",
       " (194, 'a'),\n",
       " (194, 'b'),\n",
       " (194, 'c'),\n",
       " (195, 'a'),\n",
       " (195, 'b'),\n",
       " (195, 'c'),\n",
       " (196, 'a'),\n",
       " (196, 'b'),\n",
       " (196, 'c'),\n",
       " (197, 'a'),\n",
       " (197, 'b'),\n",
       " (197, 'c'),\n",
       " (198, 'a'),\n",
       " (198, 'b'),\n",
       " (198, 'c'),\n",
       " (199, 'a'),\n",
       " (199, 'b'),\n",
       " (199, 'c'),\n",
       " (200, 'a'),\n",
       " (200, 'b'),\n",
       " (200, 'c'),\n",
       " (201, 'a'),\n",
       " (201, 'b'),\n",
       " (201, 'c'),\n",
       " (202, 'a'),\n",
       " (202, 'b'),\n",
       " (202, 'c'),\n",
       " (203, 'a'),\n",
       " (203, 'b'),\n",
       " (203, 'c'),\n",
       " (204, 'a'),\n",
       " (204, 'b'),\n",
       " (204, 'c'),\n",
       " (205, 'a'),\n",
       " (205, 'b'),\n",
       " (205, 'c'),\n",
       " (206, 'a'),\n",
       " (206, 'b'),\n",
       " (206, 'c'),\n",
       " (207, 'a'),\n",
       " (207, 'b'),\n",
       " (207, 'c'),\n",
       " (208, 'a'),\n",
       " (208, 'b'),\n",
       " (208, 'c'),\n",
       " (209, 'a'),\n",
       " (209, 'b'),\n",
       " (209, 'c'),\n",
       " (210, 'a'),\n",
       " (210, 'b'),\n",
       " (210, 'c'),\n",
       " (211, 'a'),\n",
       " (211, 'b'),\n",
       " (211, 'c'),\n",
       " (212, 'a'),\n",
       " (212, 'b'),\n",
       " (212, 'c'),\n",
       " (213, 'a'),\n",
       " (213, 'b'),\n",
       " (213, 'c'),\n",
       " (214, 'a'),\n",
       " (214, 'b'),\n",
       " (214, 'c'),\n",
       " (215, 'a'),\n",
       " (215, 'b'),\n",
       " (215, 'c'),\n",
       " (216, 'a'),\n",
       " (216, 'b'),\n",
       " (216, 'c'),\n",
       " (217, 'a'),\n",
       " (217, 'b'),\n",
       " (217, 'c'),\n",
       " (218, 'a'),\n",
       " (218, 'b'),\n",
       " (218, 'c'),\n",
       " (219, 'a'),\n",
       " (219, 'b'),\n",
       " (219, 'c'),\n",
       " (220, 'a'),\n",
       " (220, 'b'),\n",
       " (220, 'c'),\n",
       " (221, 'a'),\n",
       " (221, 'b'),\n",
       " (221, 'c'),\n",
       " (222, 'a'),\n",
       " (222, 'b'),\n",
       " (222, 'c'),\n",
       " (223, 'a'),\n",
       " (223, 'b'),\n",
       " (223, 'c'),\n",
       " (224, 'a'),\n",
       " (224, 'b'),\n",
       " (224, 'c'),\n",
       " (225, 'a'),\n",
       " (225, 'b'),\n",
       " (225, 'c'),\n",
       " (226, 'a'),\n",
       " (226, 'b'),\n",
       " (226, 'c'),\n",
       " (227, 'a'),\n",
       " (227, 'b'),\n",
       " (227, 'c'),\n",
       " (228, 'a'),\n",
       " (228, 'b'),\n",
       " (228, 'c'),\n",
       " (229, 'a'),\n",
       " (229, 'b'),\n",
       " (229, 'c'),\n",
       " (230, 'a'),\n",
       " (230, 'b'),\n",
       " (230, 'c'),\n",
       " (231, 'a'),\n",
       " (231, 'b'),\n",
       " (231, 'c'),\n",
       " (232, 'a'),\n",
       " (232, 'b'),\n",
       " (232, 'c'),\n",
       " (233, 'a'),\n",
       " (233, 'b'),\n",
       " (233, 'c'),\n",
       " (234, 'a'),\n",
       " (234, 'b'),\n",
       " (234, 'c'),\n",
       " (235, 'a'),\n",
       " (235, 'b'),\n",
       " (235, 'c'),\n",
       " (236, 'a'),\n",
       " (236, 'b'),\n",
       " (236, 'c'),\n",
       " (237, 'a'),\n",
       " (237, 'b'),\n",
       " (237, 'c'),\n",
       " (238, 'a'),\n",
       " (238, 'b'),\n",
       " (238, 'c'),\n",
       " (239, 'a'),\n",
       " (239, 'b'),\n",
       " (239, 'c'),\n",
       " (240, 'a'),\n",
       " (240, 'b'),\n",
       " (240, 'c'),\n",
       " (241, 'a'),\n",
       " (241, 'b'),\n",
       " (241, 'c'),\n",
       " (242, 'a'),\n",
       " (242, 'b'),\n",
       " (242, 'c'),\n",
       " (243, 'a'),\n",
       " (243, 'b'),\n",
       " (243, 'c'),\n",
       " (244, 'a'),\n",
       " (244, 'b'),\n",
       " (244, 'c'),\n",
       " (245, 'a'),\n",
       " (245, 'b'),\n",
       " (245, 'c'),\n",
       " (246, 'a'),\n",
       " (246, 'b'),\n",
       " (246, 'c'),\n",
       " (247, 'a'),\n",
       " (247, 'b'),\n",
       " (247, 'c'),\n",
       " (248, 'a'),\n",
       " (248, 'b'),\n",
       " (248, 'c'),\n",
       " (249, 'a'),\n",
       " (249, 'b'),\n",
       " (249, 'c'),\n",
       " (250, 'a'),\n",
       " (250, 'b'),\n",
       " (250, 'c'),\n",
       " (251, 'a'),\n",
       " (251, 'b'),\n",
       " (251, 'c'),\n",
       " (252, 'a'),\n",
       " (252, 'b'),\n",
       " (252, 'c'),\n",
       " (253, 'a'),\n",
       " (253, 'b'),\n",
       " (253, 'c'),\n",
       " (254, 'a'),\n",
       " (254, 'b'),\n",
       " (254, 'c'),\n",
       " (255, 'a'),\n",
       " (255, 'b'),\n",
       " (255, 'c'),\n",
       " (256, 'a'),\n",
       " (256, 'b'),\n",
       " (256, 'c'),\n",
       " (257, 'a'),\n",
       " (257, 'b'),\n",
       " (257, 'c'),\n",
       " (258, 'a'),\n",
       " (258, 'b'),\n",
       " (258, 'c'),\n",
       " (259, 'a'),\n",
       " (259, 'b'),\n",
       " (259, 'c'),\n",
       " (260, 'a'),\n",
       " (260, 'b'),\n",
       " (260, 'c'),\n",
       " (261, 'a'),\n",
       " (261, 'b'),\n",
       " (261, 'c'),\n",
       " (262, 'a'),\n",
       " (262, 'b'),\n",
       " (262, 'c'),\n",
       " (263, 'a'),\n",
       " (263, 'b'),\n",
       " (263, 'c'),\n",
       " (264, 'a'),\n",
       " (264, 'b'),\n",
       " (264, 'c'),\n",
       " (265, 'a'),\n",
       " (265, 'b'),\n",
       " (265, 'c'),\n",
       " (266, 'a'),\n",
       " (266, 'b'),\n",
       " (266, 'c'),\n",
       " (267, 'a'),\n",
       " (267, 'b'),\n",
       " (267, 'c'),\n",
       " (268, 'a'),\n",
       " (268, 'b'),\n",
       " (268, 'c'),\n",
       " (269, 'a'),\n",
       " (269, 'b'),\n",
       " (269, 'c'),\n",
       " (270, 'a'),\n",
       " (270, 'b'),\n",
       " (270, 'c'),\n",
       " (271, 'a'),\n",
       " (271, 'b'),\n",
       " (271, 'c'),\n",
       " (272, 'a'),\n",
       " (272, 'b'),\n",
       " (272, 'c'),\n",
       " (273, 'a'),\n",
       " (273, 'b'),\n",
       " (273, 'c'),\n",
       " (274, 'a'),\n",
       " (274, 'b'),\n",
       " (274, 'c'),\n",
       " (275, 'a'),\n",
       " (275, 'b'),\n",
       " (275, 'c'),\n",
       " (276, 'a'),\n",
       " (276, 'b'),\n",
       " (276, 'c'),\n",
       " (277, 'a'),\n",
       " (277, 'b'),\n",
       " (277, 'c'),\n",
       " (278, 'a'),\n",
       " (278, 'b'),\n",
       " (278, 'c'),\n",
       " (279, 'a'),\n",
       " (279, 'b'),\n",
       " (279, 'c'),\n",
       " (280, 'a'),\n",
       " (280, 'b'),\n",
       " (280, 'c'),\n",
       " (281, 'a'),\n",
       " (281, 'b'),\n",
       " (281, 'c'),\n",
       " (282, 'a'),\n",
       " (282, 'b'),\n",
       " (282, 'c'),\n",
       " (283, 'a'),\n",
       " (283, 'b'),\n",
       " (283, 'c'),\n",
       " (284, 'a'),\n",
       " (284, 'b'),\n",
       " (284, 'c'),\n",
       " (285, 'a'),\n",
       " (285, 'b'),\n",
       " (285, 'c'),\n",
       " (286, 'a'),\n",
       " (286, 'b'),\n",
       " (286, 'c'),\n",
       " (287, 'a'),\n",
       " (287, 'b'),\n",
       " (287, 'c'),\n",
       " (288, 'a'),\n",
       " (288, 'b'),\n",
       " (288, 'c'),\n",
       " (289, 'a'),\n",
       " (289, 'b'),\n",
       " (289, 'c'),\n",
       " (290, 'a'),\n",
       " (290, 'b'),\n",
       " (290, 'c'),\n",
       " (291, 'a'),\n",
       " (291, 'b'),\n",
       " (291, 'c'),\n",
       " (292, 'a'),\n",
       " (292, 'b'),\n",
       " (292, 'c'),\n",
       " (293, 'a'),\n",
       " (293, 'b'),\n",
       " (293, 'c'),\n",
       " (294, 'a'),\n",
       " (294, 'b'),\n",
       " (294, 'c'),\n",
       " (295, 'a'),\n",
       " (295, 'b'),\n",
       " (295, 'c'),\n",
       " (296, 'a'),\n",
       " (296, 'b'),\n",
       " (296, 'c'),\n",
       " (297, 'a'),\n",
       " (297, 'b'),\n",
       " (297, 'c'),\n",
       " (298, 'a'),\n",
       " (298, 'b'),\n",
       " (298, 'c'),\n",
       " (299, 'a'),\n",
       " (299, 'b'),\n",
       " (299, 'c'),\n",
       " (300, 'a'),\n",
       " (300, 'b'),\n",
       " (300, 'c'),\n",
       " (301, 'a'),\n",
       " (301, 'b'),\n",
       " (301, 'c'),\n",
       " (302, 'a'),\n",
       " (302, 'b'),\n",
       " (302, 'c'),\n",
       " (303, 'a'),\n",
       " (303, 'b'),\n",
       " (303, 'c'),\n",
       " (304, 'a'),\n",
       " (304, 'b'),\n",
       " (304, 'c'),\n",
       " (305, 'a'),\n",
       " (305, 'b'),\n",
       " (305, 'c'),\n",
       " (306, 'a'),\n",
       " (306, 'b'),\n",
       " (306, 'c'),\n",
       " (307, 'a'),\n",
       " (307, 'b'),\n",
       " (307, 'c'),\n",
       " (308, 'a'),\n",
       " (308, 'b'),\n",
       " (308, 'c'),\n",
       " (309, 'a'),\n",
       " (309, 'b'),\n",
       " (309, 'c'),\n",
       " (310, 'a'),\n",
       " (310, 'b'),\n",
       " (310, 'c'),\n",
       " (311, 'a'),\n",
       " (311, 'b'),\n",
       " (311, 'c'),\n",
       " (312, 'a'),\n",
       " (312, 'b'),\n",
       " (312, 'c'),\n",
       " (313, 'a'),\n",
       " (313, 'b'),\n",
       " (313, 'c'),\n",
       " (314, 'a'),\n",
       " (314, 'b'),\n",
       " (314, 'c'),\n",
       " (315, 'a'),\n",
       " (315, 'b'),\n",
       " (315, 'c'),\n",
       " (316, 'a'),\n",
       " (316, 'b'),\n",
       " (316, 'c'),\n",
       " (317, 'a'),\n",
       " (317, 'b'),\n",
       " (317, 'c'),\n",
       " (318, 'a'),\n",
       " (318, 'b'),\n",
       " (318, 'c'),\n",
       " (319, 'a'),\n",
       " (319, 'b'),\n",
       " (319, 'c'),\n",
       " (320, 'a'),\n",
       " (320, 'b'),\n",
       " (320, 'c'),\n",
       " (321, 'a'),\n",
       " (321, 'b'),\n",
       " (321, 'c'),\n",
       " (322, 'a'),\n",
       " (322, 'b'),\n",
       " (322, 'c'),\n",
       " (323, 'a'),\n",
       " (323, 'b'),\n",
       " (323, 'c'),\n",
       " (324, 'a'),\n",
       " (324, 'b'),\n",
       " (324, 'c'),\n",
       " (325, 'a'),\n",
       " (325, 'b'),\n",
       " (325, 'c'),\n",
       " (326, 'a'),\n",
       " (326, 'b'),\n",
       " (326, 'c'),\n",
       " (327, 'a'),\n",
       " (327, 'b'),\n",
       " (327, 'c'),\n",
       " (328, 'a'),\n",
       " (328, 'b'),\n",
       " (328, 'c'),\n",
       " (329, 'a'),\n",
       " (329, 'b'),\n",
       " (329, 'c'),\n",
       " (330, 'a'),\n",
       " (330, 'b'),\n",
       " (330, 'c'),\n",
       " (331, 'a'),\n",
       " (331, 'b'),\n",
       " (331, 'c'),\n",
       " (332, 'a'),\n",
       " (332, 'b'),\n",
       " (332, 'c'),\n",
       " (333, 'a'),\n",
       " (333, 'b'),\n",
       " (333, 'c'),\n",
       " (334, 'a'),\n",
       " ...]"
      ]
     },
     "execution_count": 42,
     "metadata": {},
     "output_type": "execute_result"
    }
   ],
   "source": [
    "[(x,y) for x in range (1, 3000) for y in ['a', 'b', 'c']]"
   ]
  },
  {
   "cell_type": "markdown",
   "id": "b7813f43",
   "metadata": {},
   "source": [
    "1, 2999와 'a', 'b', 'c'의 모든 조합을 출력."
   ]
  },
  {
   "cell_type": "code",
   "execution_count": 43,
   "id": "a8b2394c",
   "metadata": {},
   "outputs": [
    {
     "data": {
      "text/plain": [
       "[(1, 'a'), (1, 'b'), (1, 'c'), (2, 'a'), (2, 'b'), (2, 'c')]"
      ]
     },
     "execution_count": 43,
     "metadata": {},
     "output_type": "execute_result"
    }
   ],
   "source": [
    "list([(x,y) for x in range (1, 3) for y in ['a', 'b', 'c']])"
   ]
  },
  {
   "cell_type": "markdown",
   "id": "1ddb17f8",
   "metadata": {},
   "source": [
    "리스트로 감싸 결과 출력."
   ]
  },
  {
   "cell_type": "code",
   "execution_count": 44,
   "id": "b4cb1db9",
   "metadata": {},
   "outputs": [
    {
     "data": {
      "text/plain": [
       "((1, 'a'), (1, 'b'), (1, 'c'), (2, 'a'), (2, 'b'), (2, 'c'))"
      ]
     },
     "execution_count": 44,
     "metadata": {},
     "output_type": "execute_result"
    }
   ],
   "source": [
    "tuple([(x,y) for x in range (1, 3) for y in ['a', 'b', 'c']])"
   ]
  },
  {
   "cell_type": "markdown",
   "id": "10f359e5",
   "metadata": {},
   "source": [
    "튜플 안에 여러 개의 (x, y) 튜플이 들어감."
   ]
  },
  {
   "cell_type": "code",
   "execution_count": 45,
   "id": "21d2e889",
   "metadata": {},
   "outputs": [
    {
     "data": {
      "text/plain": [
       "{(1, 'a'), (1, 'b'), (1, 'c'), (2, 'a'), (2, 'b'), (2, 'c')}"
      ]
     },
     "execution_count": 45,
     "metadata": {},
     "output_type": "execute_result"
    }
   ],
   "source": [
    "set([(x,y) for x in range (1, 3) for y in ['a', 'b', 'c']])"
   ]
  },
  {
   "cell_type": "markdown",
   "id": "b97f627a",
   "metadata": {},
   "source": [
    "중복 없는 (x, y)의 set을 생성"
   ]
  },
  {
   "cell_type": "code",
   "execution_count": 46,
   "id": "31f35888",
   "metadata": {},
   "outputs": [
    {
     "data": {
      "text/plain": [
       "{1: 'c', 2: 'c'}"
      ]
     },
     "execution_count": 46,
     "metadata": {},
     "output_type": "execute_result"
    }
   ],
   "source": [
    "dict([(x,y) for x in range (1, 3) for y in ['a', 'b', 'c']])"
   ]
  },
  {
   "cell_type": "markdown",
   "id": "902c8b8a",
   "metadata": {},
   "source": [
    "딕셔너리가 오류 없이 실행되지만 마지막 키만 남음."
   ]
  }
 ],
 "metadata": {
  "kernelspec": {
   "display_name": "base",
   "language": "python",
   "name": "python3"
  },
  "language_info": {
   "codemirror_mode": {
    "name": "ipython",
    "version": 3
   },
   "file_extension": ".py",
   "mimetype": "text/x-python",
   "name": "python",
   "nbconvert_exporter": "python",
   "pygments_lexer": "ipython3",
   "version": "3.12.9"
  }
 },
 "nbformat": 4,
 "nbformat_minor": 5
}
